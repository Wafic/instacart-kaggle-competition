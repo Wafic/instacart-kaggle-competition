{
 "cells": [
  {
   "cell_type": "code",
   "execution_count": 1,
   "metadata": {},
   "outputs": [
    {
     "name": "stderr",
     "output_type": "stream",
     "text": [
      "/Users/waficel-assi/anaconda3/lib/python3.6/site-packages/h5py/__init__.py:36: FutureWarning: Conversion of the second argument of issubdtype from `float` to `np.floating` is deprecated. In future, it will be treated as `np.float64 == np.dtype(float).type`.\n",
      "  from ._conv import register_converters as _register_converters\n"
     ]
    }
   ],
   "source": [
    "from __future__ import division, print_function\n",
    "import pandas as pd\n",
    "import numpy as np\n",
    "from sklearn_pandas import DataFrameMapper\n",
    "from sklearn.preprocessing import MinMaxScaler\n",
    "import tensorflow as tf\n",
    "import tensorflow.contrib.slim as slim\n",
    "import matplotlib.pyplot as plt"
   ]
  },
  {
   "cell_type": "code",
   "execution_count": 2,
   "metadata": {},
   "outputs": [
    {
     "name": "stdout",
     "output_type": "stream",
     "text": [
      "/Users/waficel-assi/Desktop/StatsMSc/instacart-kaggle\n"
     ]
    }
   ],
   "source": [
    "cd \"/Users/waficel-assi/Desktop/StatsMSc/instacart-kaggle\""
   ]
  },
  {
   "cell_type": "code",
   "execution_count": 21,
   "metadata": {},
   "outputs": [],
   "source": [
    "def user_embedding(inputs, n_users, embedding_dim):\n",
    "    with tf.variable_scope('user_embedding', reuse=tf.AUTO_REUSE):\n",
    "        \n",
    "        #TODO: create embedding matrix for user and query embedding vector\n",
    "        user_embeddings = tf.get_variable('embeddings_users', [n_users, embedding_dim])\n",
    "        embed_user_ids = tf.nn.embedding_lookup(user_embeddings, inputs, name='user_vector')\n",
    "\n",
    "        #TODO: return user embedding vector\n",
    "        return embed_user_ids\n"
   ]
  },
  {
   "cell_type": "code",
   "execution_count": 20,
   "metadata": {},
   "outputs": [],
   "source": [
    "def product_embedding(inputs, n_prods, embedding_dim):\n",
    "    with tf.variable_scope('product_embedding', reuse=tf.AUTO_REUSE):\n",
    "        #TODO: create embedding matrix for product and query embedding vector\n",
    "        product_embeddings = tf.get_variable('embeddings_prods', [n_prods, embedding_dim])\n",
    "        embed_product_ids = tf.nn.embedding_lookup(product_embeddings, inputs)\n",
    "\n",
    "        #TODO: return user embedding vector\n",
    "        return embed_product_ids\n"
   ]
  },
  {
   "cell_type": "code",
   "execution_count": 33,
   "metadata": {},
   "outputs": [],
   "source": [
    "def output_layer(user, product):\n",
    "    # TODO: given user vector and product vector, implementate prediction function\n",
    "    input_1 = tf.concat([user, product], 1)\n",
    "    ouputNET_hidden = slim.fully_connected(input_1, num_outputs=50, activation_fn=tf.nn.tanh, scope='output_1', reuse=tf.AUTO_REUSE)\n",
    "    \n",
    "    ouputNET = slim.fully_connected(ouputNET_hidden, num_outputs=1, activation_fn=None, scope='output_2', reuse=tf.AUTO_REUSE)\n",
    "\n",
    "    return ouputNET"
   ]
  },
  {
   "cell_type": "code",
   "execution_count": 90,
   "metadata": {},
   "outputs": [],
   "source": [
    "def data():\n",
    "    \"\"\"\n",
    "    Data preprocesing function\n",
    "    \"\"\"\n",
    "    order_products_prior_df = pd.read_csv('data/order_products__prior.csv', engine='c',\n",
    "                                          dtype={'order_id': np.int32, 'product_id': np.int32,\n",
    "                                                 'add_to_cart_order': np.int16, 'reordered': np.int8})\n",
    "\n",
    "\n",
    "    order_products_train_df = pd.read_csv('data/order_products__train.csv', engine='c',\n",
    "                                          dtype={'order_id': np.int32, 'product_id': np.int32,\n",
    "                                                 'add_to_cart_order': np.int16, 'reordered': np.int8})\n",
    "\n",
    "    orders_df = pd.read_csv('data/orders.csv', engine='c',\n",
    "                            dtype={'order_id': np.int32, 'user_id': np.int32, 'order_number': np.int32,\n",
    "                                   'order_dow': np.int8, 'order_hour_of_day': np.int8,\n",
    "                                   'days_since_prior_order': np.float16})\n",
    "\n",
    "    products_df = pd.read_csv(\"data/products.csv\", engine='c')\n",
    "\n",
    "    df_train = orders_df.merge(order_products_train_df, how='inner', on='order_id')\n",
    "    df_train = df_train.merge(products_df, how='inner', on='product_id')\n",
    "    df_train.sort_values(['user_id', 'order_number'], axis=0, inplace=True)\n",
    "\n",
    "    df_prior = orders_df.merge(order_products_prior_df, how='inner', on='order_id')\n",
    "    df_prior = df_prior.merge(products_df, how='inner', on='product_id')\n",
    "    df_prior.sort_values(['user_id', 'order_number'], axis=0, inplace=True)\n",
    "\n",
    "    df = pd.concat([df_prior, df_train])\n",
    "\n",
    "    # fillna\n",
    "    df.fillna(0, axis=0, inplace=True)\n",
    "    df.drop('eval_set', axis=1, inplace=True)\n",
    "    df.reset_index(drop=True, inplace=True)\n",
    "    del df_train, df_prior\n",
    "\n",
    "    sample = int(1e5)\n",
    "    df = df.iloc[:sample]\n",
    "    df.head(3)\n",
    "\n",
    "    # Update product and user ids so that they are contiguous integers, which we want when using embeddings.\n",
    "    g = df.groupby(['user_id', 'product_name', 'product_id'])\n",
    "\n",
    "    # create prod_rating df and add a product_count feature (i.e. how many times has the user reordered the product)\n",
    "    prod_ratings = g['reordered'].count().reset_index()\n",
    "    prod_ratings.columns = ['user_id', 'product_name', 'product_id', 'product_count']\n",
    "\n",
    "    users = prod_ratings.user_id.unique()\n",
    "    prods = prod_ratings.product_id.unique()\n",
    "\n",
    "    userid2idx = {o: i for i, o in enumerate(users)}\n",
    "    prodid2idx = {o: i for i, o in enumerate(prods)}\n",
    "\n",
    "    prod_ratings.product_id = prod_ratings.product_id.apply(lambda x: prodid2idx[x])\n",
    "    prod_ratings.user_id = prod_ratings.user_id.apply(lambda x: userid2idx[x])\n",
    "\n",
    "    n_users = prod_ratings.user_id.nunique()\n",
    "    n_prods = prod_ratings.product_id.nunique()\n",
    "    print(\"num of users: \", n_users)\n",
    "    print(\"num of prods: \",  n_prods)\n",
    "\n",
    "    def round_rating(number):\n",
    "        \"\"\"Round a number to the closest half integer\"\"\"\n",
    "        return np.round(number * 2) / 2\n",
    "\n",
    "    mapper = DataFrameMapper([(['product_count'], MinMaxScaler())], df_out=True)\n",
    "\n",
    "    # apply the mapper to each user and concatenate results\n",
    "    dfs = [np.round(mapper.fit_transform(prod_ratings[prod_ratings.user_id == u].copy()), 1) for u in range(n_users)]\n",
    "\n",
    "    prod_ratings['product_score'] = pd.concat(dfs).reset_index(drop=True) * 4 + 1\n",
    "    prod_ratings['product_score'] = round_rating(prod_ratings['product_score'])  # .astype(int)\n",
    "    # print(prod_ratings.shape)\n",
    "    prod_ratings.head(20)\n",
    "    np.random.seed(1001)\n",
    "    msk = np.random.rand(len(prod_ratings)) < 0.8\n",
    "    trn = prod_ratings[msk]\n",
    "    val = prod_ratings[~msk]\n",
    "\n",
    "    return trn, val, n_users, n_prods"
   ]
  },
  {
   "cell_type": "code",
   "execution_count": 91,
   "metadata": {},
   "outputs": [],
   "source": [
    "def main():\n",
    "    \"\"\"\n",
    "    DATA useage\n",
    "    user_id : train.user_id\n",
    "    product_id : train.product_id\n",
    "    product_score: train.product_score\n",
    "    \"\"\"\n",
    "    embedding_dim = 50\n",
    "    batch_size = 1024\n",
    "\n",
    "    train, val, n_users, n_prods = data()\n",
    "    num_training_data = len(train.user_id)\n",
    "    num_val_data = len(val.user_id)\n",
    "\n",
    "    print(\"num of training data: \", num_training_data)\n",
    "    print(\"num of val data: \", num_val_data)\n",
    "\n",
    "    user = tf.placeholder(tf.int32, [None])\n",
    "    product = tf.placeholder(tf.int32, [None])\n",
    "    score = tf.placeholder(tf.float32, shape=[None])\n",
    "\n",
    "    # TODO: use user_embedding and product_embedding function to find embedding vector\n",
    "    user_vector = user_embedding(user, n_users, embedding_dim)\n",
    "    prod_vector = product_embedding(product, n_prods, embedding_dim)\n",
    "\n",
    "    output = output_layer(user_vector, prod_vector)\n",
    "\n",
    "    # TODO: implementate loss function\n",
    "    loss = tf.losses.mean_squared_error(output[:,0], score)\n",
    "    train_op = tf.train.AdamOptimizer(0.001, name=\"Adam_5\").minimize(loss)\n",
    "\n",
    "    val_loss = []\n",
    "    with tf.Session() as sess:\n",
    "        # you need to initialize all variables\n",
    "        tf.global_variables_initializer().run()\n",
    "\n",
    "        for epoch in range(10):\n",
    "            for iter in range(int(num_training_data / batch_size)):\n",
    "                curr_user_id = train.user_id[iter * batch_size : iter* batch_size + batch_size ].values\n",
    "                curr_product_id = train.product_id[iter * batch_size : iter* batch_size + batch_size ].values\n",
    "                curr_product_score = train.product_score[iter * batch_size : iter* batch_size + batch_size ].values\n",
    "\n",
    "                L , _ = sess.run([loss, train_op], feed_dict={user: curr_user_id,\n",
    "                                                          product: curr_product_id,\n",
    "                                                          score: curr_product_score})\n",
    "\n",
    "                if iter % 100 == 0:\n",
    "                    print('Train Loss at epoch {} : {} '.format(str(epoch),str(L)))\n",
    "\n",
    "                if iter % 300 == 0:\n",
    "                    curr_user_id = val.user_id.values\n",
    "                    curr_product_id = val.product_id.values\n",
    "                    curr_product_score = val.product_score.values\n",
    "\n",
    "                    L = sess.run(loss, feed_dict={user: curr_user_id,\n",
    "                                                              product: curr_product_id,\n",
    "                                                              score: curr_product_score})\n",
    "\n",
    "                    print('Validataion Loss at epoch {} : {} '.format(str(epoch), str(L)))\n",
    "\n",
    "                    val_loss.append(L)\n",
    "    plt.plot(val_loss, '--', color=\"#111111\", label=\"score\")\n",
    "    plt.show()"
   ]
  },
  {
   "cell_type": "code",
   "execution_count": 92,
   "metadata": {},
   "outputs": [
    {
     "name": "stdout",
     "output_type": "stream",
     "text": [
      "num of users:  667\n",
      "num of prods:  12469\n"
     ]
    },
    {
     "name": "stderr",
     "output_type": "stream",
     "text": [
      "/Users/waficel-assi/anaconda3/lib/python3.6/site-packages/sklearn/utils/validation.py:475: DataConversionWarning: Data with input dtype int64 was converted to float64 by MinMaxScaler.\n",
      "  warnings.warn(msg, DataConversionWarning)\n"
     ]
    },
    {
     "name": "stdout",
     "output_type": "stream",
     "text": [
      "num of training data:  33360\n",
      "num of val data:  8330\n",
      "Train Loss at epoch 0 : 3.039542 \n",
      "Validataion Loss at epoch 0 : 3.036833 \n",
      "Train Loss at epoch 1 : 1.598002 \n",
      "Validataion Loss at epoch 1 : 1.6370692 \n",
      "Train Loss at epoch 2 : 0.89687854 \n",
      "Validataion Loss at epoch 2 : 0.93542844 \n",
      "Train Loss at epoch 3 : 0.75159454 \n",
      "Validataion Loss at epoch 3 : 0.88704365 \n",
      "Train Loss at epoch 4 : 0.68840057 \n",
      "Validataion Loss at epoch 4 : 0.8790905 \n",
      "Train Loss at epoch 5 : 0.6472899 \n",
      "Validataion Loss at epoch 5 : 0.8828277 \n",
      "Train Loss at epoch 6 : 0.6197268 \n",
      "Validataion Loss at epoch 6 : 0.8897178 \n",
      "Train Loss at epoch 7 : 0.6014187 \n",
      "Validataion Loss at epoch 7 : 0.8982248 \n",
      "Train Loss at epoch 8 : 0.5890427 \n",
      "Validataion Loss at epoch 8 : 0.91004765 \n",
      "Train Loss at epoch 9 : 0.5808765 \n",
      "Validataion Loss at epoch 9 : 0.9171536 \n"
     ]
    },
    {
     "data": {
      "image/png": "[encoded data removed]",
      "text/plain": [
       "<matplotlib.figure.Figure at 0x1c5605cb38>"
      ]
     },
     "metadata": {},
     "output_type": "display_data"
    }
   ],
   "source": [
    "if __name__ == '__main__':\n",
    "    main()"
   ]
  },
  {
   "cell_type": "code",
   "execution_count": null,
   "metadata": {},
   "outputs": [],
   "source": []
  }
 ],
 "metadata": {
  "kernelspec": {
   "display_name": "Python 3",
   "language": "python",
   "name": "python3"
  },
  "language_info": {
   "codemirror_mode": {
    "name": "ipython",
    "version": 3
   },
   "file_extension": ".py",
   "mimetype": "text/x-python",
   "name": "python",
   "nbconvert_exporter": "python",
   "pygments_lexer": "ipython3",
   "version": "3.6.4"
  }
 },
 "nbformat": 4,
 "nbformat_minor": 2
}
